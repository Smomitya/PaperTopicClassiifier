{
 "cells": [
  {
   "cell_type": "code",
   "execution_count": null,
   "id": "22d6c534-21c3-4eee-85d1-c4f949f1f063",
   "metadata": {
    "execution": {
     "iopub.execute_input": "2025-04-07T23:24:27.683914Z",
     "iopub.status.busy": "2025-04-07T23:24:27.683302Z",
     "iopub.status.idle": "2025-04-07T23:25:01.442643Z",
     "shell.execute_reply": "2025-04-07T23:25:01.440823Z",
     "shell.execute_reply.started": "2025-04-07T23:24:27.683876Z"
    },
    "tags": []
   },
   "outputs": [],
   "source": [
    "import numpy as np\n",
    "import pandas as pd\n",
    "import json\n",
    "import torch\n",
    "from datetime import datetime\n",
    "from sklearn.preprocessing import LabelEncoder\n",
    "import transformers\n",
    "import datasets\n",
    "import evaluate"
   ]
  },
  {
   "cell_type": "code",
   "execution_count": null,
   "id": "8c85546d-d829-479d-83d1-7e6c9d6e8aac",
   "metadata": {
    "collapsed": true,
    "execution": {
     "iopub.execute_input": "2025-04-07T19:32:47.139954Z",
     "iopub.status.busy": "2025-04-07T19:32:47.138474Z",
     "iopub.status.idle": "2025-04-07T19:35:33.134603Z",
     "shell.execute_reply": "2025-04-07T19:35:33.133482Z",
     "shell.execute_reply.started": "2025-04-07T19:32:47.139898Z"
    },
    "jupyter": {
     "outputs_hidden": true
    },
    "tags": []
   },
   "outputs": [],
   "source": [
    "with open(\"./data/arxiv-metadata-oai-snapshot.json\", \"r\") as f_in, \\\n",
    "     open(\"./data/data.json\", \"w\") as f_out:\n",
    "    for i, line in enumerate(f_in):\n",
    "        if not i % 100000:\n",
    "            print(f\"Processed {i} lines.\")\n",
    "        try:\n",
    "            data = json.loads(line)\n",
    "            category = data[\"categories\"].split()[0]\n",
    "            parsed_data = {\n",
    "                \"id\": data[\"id\"],\n",
    "                \"update_date\": data[\"update_date\"],\n",
    "                \"title\": data[\"title\"],\n",
    "                \"abstract\": data[\"abstract\"][:512],\n",
    "\n",
    "                \"categories\": category\n",
    "            }\n",
    "            json.dump(parsed_data, f_out)\n",
    "            f_out.write('\\n')\n",
    "        except:\n",
    "            print(f\"Line {i} is bad!\")\n",
    "        "
   ]
  },
  {
   "cell_type": "code",
   "execution_count": null,
   "id": "9f5748f0-09d5-47f3-a6c0-07fd7fe0b803",
   "metadata": {
    "execution": {
     "iopub.execute_input": "2025-04-08T03:21:14.053586Z",
     "iopub.status.busy": "2025-04-08T03:21:14.052806Z",
     "iopub.status.idle": "2025-04-08T03:23:29.034231Z",
     "shell.execute_reply": "2025-04-08T03:23:29.032883Z",
     "shell.execute_reply.started": "2025-04-08T03:21:14.053541Z"
    },
    "tags": []
   },
   "outputs": [],
   "source": [
    "df = pd.read_json(\"./data/data.json\", lines=True)"
   ]
  },
  {
   "cell_type": "code",
   "execution_count": null,
   "id": "a4cdad13-008b-44f9-b164-fba81edcb6df",
   "metadata": {
    "execution": {
     "iopub.execute_input": "2025-04-08T03:24:58.104529Z",
     "iopub.status.busy": "2025-04-08T03:24:58.103114Z",
     "iopub.status.idle": "2025-04-08T03:24:58.743944Z",
     "shell.execute_reply": "2025-04-08T03:24:58.742081Z",
     "shell.execute_reply.started": "2025-04-08T03:24:58.104482Z"
    },
    "tags": []
   },
   "outputs": [],
   "source": [
    "le = LabelEncoder()\n",
    "df[\"label\"] = le.fit_transform(df[\"categories\"])"
   ]
  },
  {
   "cell_type": "code",
   "execution_count": null,
   "id": "2f8f5fff-cdfc-4655-9485-83d10b9c9fe7",
   "metadata": {
    "execution": {
     "iopub.execute_input": "2025-04-07T22:45:16.821472Z",
     "iopub.status.busy": "2025-04-07T22:45:16.820211Z",
     "iopub.status.idle": "2025-04-07T22:45:18.336657Z",
     "shell.execute_reply": "2025-04-07T22:45:18.335296Z",
     "shell.execute_reply.started": "2025-04-07T22:45:16.821425Z"
    },
    "tags": []
   },
   "outputs": [],
   "source": [
    "df[\"text\"] = df[\"title\"] + \" \" + df[\"abstract\"]"
   ]
  },
  {
   "cell_type": "code",
   "execution_count": null,
   "id": "61d7a1b2-da1d-45bd-88e6-647bb28c5f28",
   "metadata": {
    "execution": {
     "iopub.execute_input": "2025-04-07T23:31:56.024006Z",
     "iopub.status.busy": "2025-04-07T23:31:56.021872Z",
     "iopub.status.idle": "2025-04-07T23:31:56.048630Z",
     "shell.execute_reply": "2025-04-07T23:31:56.047016Z",
     "shell.execute_reply.started": "2025-04-07T23:31:56.023957Z"
    },
    "tags": []
   },
   "outputs": [],
   "source": [
    "model_name = \"distilbert/distilbert-base-cased\""
   ]
  },
  {
   "cell_type": "code",
   "execution_count": null,
   "id": "7f0fde8a-c4bf-4216-9298-2d9392b45fa5",
   "metadata": {
    "execution": {
     "iopub.execute_input": "2025-04-07T22:45:42.250242Z",
     "iopub.status.busy": "2025-04-07T22:45:42.249179Z",
     "iopub.status.idle": "2025-04-07T22:45:42.663785Z",
     "shell.execute_reply": "2025-04-07T22:45:42.662574Z",
     "shell.execute_reply.started": "2025-04-07T22:45:42.250171Z"
    },
    "tags": []
   },
   "outputs": [],
   "source": [
    "tokenizer = transformers.AutoTokenizer.from_pretrained(model_name)"
   ]
  },
  {
   "cell_type": "code",
   "execution_count": null,
   "id": "2f756982-50bc-48f5-b74d-8129cd6c70b7",
   "metadata": {
    "execution": {
     "iopub.execute_input": "2025-04-07T22:45:54.294055Z",
     "iopub.status.busy": "2025-04-07T22:45:54.292760Z",
     "iopub.status.idle": "2025-04-07T22:46:00.491534Z",
     "shell.execute_reply": "2025-04-07T22:46:00.490278Z",
     "shell.execute_reply.started": "2025-04-07T22:45:54.294016Z"
    },
    "tags": []
   },
   "outputs": [],
   "source": [
    "dataset = datasets.Dataset.from_pandas(\n",
    "    df[[\"id\", \"text\", \"categories\", \"label\"]]\n",
    ").train_test_split(0.1, shuffle=True)"
   ]
  },
  {
   "cell_type": "code",
   "execution_count": null,
   "id": "5fd12cb6-1f69-4ef5-adfe-9996fe5112d8",
   "metadata": {
    "execution": {
     "iopub.execute_input": "2025-04-07T22:46:06.115705Z",
     "iopub.status.busy": "2025-04-07T22:46:06.114506Z",
     "iopub.status.idle": "2025-04-07T22:46:06.149119Z",
     "shell.execute_reply": "2025-04-07T22:46:06.147729Z",
     "shell.execute_reply.started": "2025-04-07T22:46:06.115645Z"
    },
    "tags": []
   },
   "outputs": [],
   "source": [
    "def tokenize_function(row):\n",
    "    return tokenizer(row[\"text\"], padding=\"max_length\", truncation=True)"
   ]
  },
  {
   "cell_type": "code",
   "execution_count": null,
   "id": "f5a8470b-3a33-42aa-9c88-e21c15be5747",
   "metadata": {
    "execution": {
     "iopub.execute_input": "2025-04-07T22:46:21.353910Z",
     "iopub.status.busy": "2025-04-07T22:46:21.352502Z",
     "iopub.status.idle": "2025-04-07T23:02:21.415450Z",
     "shell.execute_reply": "2025-04-07T23:02:21.413939Z",
     "shell.execute_reply.started": "2025-04-07T22:46:21.353860Z"
    },
    "tags": []
   },
   "outputs": [],
   "source": [
    "dataset = dataset.map(tokenize_function, batched=True, batch_size=2000)"
   ]
  },
  {
   "cell_type": "code",
   "execution_count": null,
   "id": "4d0ebef9-a104-4695-af51-cb0e2f74041c",
   "metadata": {
    "execution": {
     "iopub.execute_input": "2025-04-07T23:03:39.950671Z",
     "iopub.status.busy": "2025-04-07T23:03:39.949431Z",
     "iopub.status.idle": "2025-04-07T23:13:08.643153Z",
     "shell.execute_reply": "2025-04-07T23:13:08.641860Z",
     "shell.execute_reply.started": "2025-04-07T23:03:39.950624Z"
    },
    "tags": []
   },
   "outputs": [],
   "source": [
    "dataset.save_to_disk(\"./data/distilbert-base-cased-dataset\")"
   ]
  },
  {
   "cell_type": "code",
   "execution_count": null,
   "id": "9a4a1e7b-b533-45c1-8fc8-b3b004421ba5",
   "metadata": {
    "execution": {
     "iopub.execute_input": "2025-04-07T23:25:55.705871Z",
     "iopub.status.busy": "2025-04-07T23:25:55.705161Z",
     "iopub.status.idle": "2025-04-07T23:31:43.539463Z",
     "shell.execute_reply": "2025-04-07T23:31:43.537856Z",
     "shell.execute_reply.started": "2025-04-07T23:25:55.705823Z"
    },
    "tags": []
   },
   "outputs": [],
   "source": [
    "dataset = datasets.load_from_disk(\"./data/distilbert-base-cased-dataset/\")"
   ]
  },
  {
   "cell_type": "code",
   "execution_count": null,
   "id": "b93f7a07-ffd4-4589-aa72-24a5b580e0da",
   "metadata": {
    "execution": {
     "iopub.execute_input": "2025-04-07T23:31:43.542309Z",
     "iopub.status.busy": "2025-04-07T23:31:43.541743Z",
     "iopub.status.idle": "2025-04-07T23:31:43.718223Z",
     "shell.execute_reply": "2025-04-07T23:31:43.716887Z",
     "shell.execute_reply.started": "2025-04-07T23:31:43.542273Z"
    }
   },
   "outputs": [],
   "source": [
    "dataset[\"train\"][0].keys()"
   ]
  },
  {
   "cell_type": "code",
   "execution_count": null,
   "id": "6dec879e-7e82-466e-aca6-bb498eac895b",
   "metadata": {
    "execution": {
     "iopub.execute_input": "2025-04-07T23:31:43.720233Z",
     "iopub.status.busy": "2025-04-07T23:31:43.719669Z",
     "iopub.status.idle": "2025-04-07T23:31:43.822077Z",
     "shell.execute_reply": "2025-04-07T23:31:43.820638Z",
     "shell.execute_reply.started": "2025-04-07T23:31:43.720198Z"
    },
    "tags": []
   },
   "outputs": [],
   "source": [
    "device = torch.device('cuda' if torch.cuda.is_available() else 'cpu')\n",
    "print(device)"
   ]
  },
  {
   "cell_type": "code",
   "execution_count": null,
   "id": "a3d13691-0be7-4ecb-8a21-540429e7957f",
   "metadata": {
    "execution": {
     "iopub.execute_input": "2025-04-07T23:31:59.984373Z",
     "iopub.status.busy": "2025-04-07T23:31:59.983646Z",
     "iopub.status.idle": "2025-04-07T23:32:17.159712Z",
     "shell.execute_reply": "2025-04-07T23:32:17.158130Z",
     "shell.execute_reply.started": "2025-04-07T23:31:59.984331Z"
    },
    "tags": []
   },
   "outputs": [],
   "source": [
    "model = transformers.AutoModelForSequenceClassification.from_pretrained(\n",
    "    model_name,\n",
    "    num_labels=172,  # len(le.classes_),\n",
    ").to(device)"
   ]
  },
  {
   "cell_type": "code",
   "execution_count": null,
   "id": "411361df-b757-4d67-9947-0c1dd4615417",
   "metadata": {
    "execution": {
     "iopub.execute_input": "2025-04-07T23:32:23.113329Z",
     "iopub.status.busy": "2025-04-07T23:32:23.112277Z",
     "iopub.status.idle": "2025-04-07T23:32:24.330092Z",
     "shell.execute_reply": "2025-04-07T23:32:24.328298Z",
     "shell.execute_reply.started": "2025-04-07T23:32:23.113276Z"
    },
    "tags": []
   },
   "outputs": [],
   "source": [
    "metric = evaluate.load(\"accuracy\")\n",
    "\n",
    "def compute_metrics(eval_pred):\n",
    "    logits, labels = eval_pred\n",
    "    predictions = np.argmax(logits, axis=-1)\n",
    "    return metric.compute(predictions=predictions, references=labels)"
   ]
  },
  {
   "cell_type": "code",
   "execution_count": null,
   "id": "8e0516fd-b2a8-4e30-b9bf-8709ab8e76ba",
   "metadata": {
    "execution": {
     "iopub.execute_input": "2025-04-08T00:11:41.316803Z",
     "iopub.status.busy": "2025-04-08T00:11:41.315939Z",
     "iopub.status.idle": "2025-04-08T00:11:41.344726Z",
     "shell.execute_reply": "2025-04-08T00:11:41.343347Z",
     "shell.execute_reply.started": "2025-04-08T00:11:41.316759Z"
    },
    "tags": []
   },
   "outputs": [],
   "source": [
    "training_args = transformers.TrainingArguments(\n",
    "    output_dir=\"./my_model\",\n",
    "    overwrite_output_dir=True,\n",
    "    num_train_epochs=5,\n",
    "    learning_rate=7e-5,\n",
    "    lr_scheduler_type=\"cosine\",\n",
    "    # lr_scheduler_kwargs={},\n",
    "    # warmup_ratio=0.03125,\n",
    "    # warmup_steps=10,\n",
    "    per_device_train_batch_size=64,\n",
    "    gradient_accumulation_steps=1,\n",
    "    log_level=\"error\",\n",
    "    # logging_dir=\"output_dir/runs/CURRENT_DATETIME_HOSTNAME\"  # логи для tensorboard (default)\n",
    "    logging_strategy=\"steps\",\n",
    "    logging_steps=100,\n",
    "    save_strategy=\"epoch\",\n",
    "    # save_steps=1,\n",
    "    save_total_limit=2,\n",
    "    save_safetensors=True,  # safetensors вместо torch.save / torch.load\n",
    "    save_only_model=False,  # сохраняем optimizer, shceduler, rng, ...\n",
    "    use_cpu=False,\n",
    "    seed=42,\n",
    "    # bf16=True,  # использовать bf16 вместо fp32\n",
    "    # eval_strategy=\"epoch\",\n",
    "    # eval_steps=32,\n",
    "    disable_tqdm=True,\n",
    "    load_best_model_at_end=False,\n",
    "    label_smoothing_factor=0.,\n",
    "    optim=\"adamw_torch\",\n",
    "    # optim_args=...,\n",
    "    # resume_from_checkpoint=...,\n",
    "    # auto_find_batch_size=...,\n",
    ")"
   ]
  },
  {
   "cell_type": "code",
   "execution_count": null,
   "id": "591c8df6-416d-4008-b369-6ebe56d847a3",
   "metadata": {
    "tags": []
   },
   "outputs": [],
   "source": [
    "trainer = transformers.Trainer(\n",
    "    model=model,\n",
    "    args=training_args,\n",
    "    train_dataset=dataset[\"train\"],\n",
    "    eval_dataset=dataset[\"test\"],\n",
    "    compute_metrics=compute_metrics,\n",
    ")\n",
    "\n",
    "trainer.train()"
   ]
  },
  {
   "cell_type": "code",
   "execution_count": null,
   "id": "488e0540-28b3-4b1f-84b4-14e7b2f948b9",
   "metadata": {
    "execution": {
     "iopub.execute_input": "2025-04-08T03:26:13.259237Z",
     "iopub.status.busy": "2025-04-08T03:26:13.258438Z",
     "iopub.status.idle": "2025-04-08T03:26:13.279964Z",
     "shell.execute_reply": "2025-04-08T03:26:13.278607Z",
     "shell.execute_reply.started": "2025-04-08T03:26:13.259189Z"
    }
   },
   "outputs": [],
   "source": [
    "id2label = {i: label for i, label in enumerate(le.classes_)}\n",
    "label2id = {v: k for k, v in id2label.items()}"
   ]
  },
  {
   "cell_type": "code",
   "execution_count": null,
   "id": "8c07c723-285c-4cbe-97ed-31ad5c20596d",
   "metadata": {
    "execution": {
     "iopub.execute_input": "2025-04-08T03:29:05.280324Z",
     "iopub.status.busy": "2025-04-08T03:29:05.279527Z",
     "iopub.status.idle": "2025-04-08T03:29:05.316708Z",
     "shell.execute_reply": "2025-04-08T03:29:05.315177Z",
     "shell.execute_reply.started": "2025-04-08T03:29:05.280277Z"
    },
    "tags": []
   },
   "outputs": [],
   "source": [
    "model.config.id2label = id2label\n",
    "model.config.label2id = label2id"
   ]
  },
  {
   "cell_type": "code",
   "execution_count": null,
   "id": "c3d54341-7f22-4ab5-bdf3-935503724623",
   "metadata": {
    "execution": {
     "iopub.execute_input": "2025-04-08T03:30:00.599666Z",
     "iopub.status.busy": "2025-04-08T03:30:00.598768Z",
     "iopub.status.idle": "2025-04-08T03:30:18.400768Z",
     "shell.execute_reply": "2025-04-08T03:30:18.399049Z",
     "shell.execute_reply.started": "2025-04-08T03:30:00.599622Z"
    }
   },
   "outputs": [],
   "source": [
    "model.save_pretrained(\"updated-model\")"
   ]
  }
 ],
 "metadata": {
  "kernelspec": {
   "display_name": "DataSphere Kernel",
   "language": "python",
   "name": "python3"
  },
  "language_info": {
   "codemirror_mode": {
    "name": "ipython",
    "version": 3
   },
   "file_extension": ".py",
   "mimetype": "text/x-python",
   "name": "python",
   "nbconvert_exporter": "python",
   "pygments_lexer": "ipython3",
   "version": "3.10.12"
  }
 },
 "nbformat": 4,
 "nbformat_minor": 5
}
